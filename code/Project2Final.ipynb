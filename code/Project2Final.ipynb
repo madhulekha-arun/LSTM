{
 "cells": [
  {
   "cell_type": "markdown",
   "metadata": {
    "deletable": true,
    "editable": true
   },
   "source": [
    "# LSTM for Language Detection\n",
    "---\n",
    "Authors:                                                                                                               Madhulekha Arunmozhi and Kiran Sudhir"
   ]
  },
  {
   "cell_type": "markdown",
   "metadata": {
    "deletable": true,
    "editable": true
   },
   "source": [
    "## Part 1 -- Building String Scoring LSTM Models"
   ]
  },
  {
   "cell_type": "code",
   "execution_count": 1,
   "metadata": {
    "collapsed": false,
    "deletable": true,
    "editable": true
   },
   "outputs": [
    {
     "name": "stderr",
     "output_type": "stream",
     "text": [
      "Using TensorFlow backend.\n"
     ]
    }
   ],
   "source": [
    "from __future__ import print_function\n",
    "from keras.models import Sequential\n",
    "from keras.layers import Dense, Activation\n",
    "from keras.layers import LSTM\n",
    "from keras.optimizers import RMSprop,SGD,Adadelta\n",
    "from keras.utils.data_utils import get_file\n",
    "import numpy as np\n",
    "import random\n",
    "import sys"
   ]
  },
  {
   "cell_type": "markdown",
   "metadata": {
    "deletable": true,
    "editable": true
   },
   "source": [
    "#### Reading English Language"
   ]
  },
  {
   "cell_type": "code",
   "execution_count": 2,
   "metadata": {
    "collapsed": false,
    "deletable": true,
    "editable": true
   },
   "outputs": [
    {
     "name": "stdout",
     "output_type": "stream",
     "text": [
      "english corpus length: 10746\n",
      "total chars english : 43\n"
     ]
    }
   ],
   "source": [
    "text_eng = open('../data/eng.txt').read().lower()\n",
    "print('english corpus length:', len(text_eng))\n",
    "chars_eng = sorted(list(set(text_eng)))\n",
    "print('total chars english :', len(chars_eng))\n",
    "char_indices_eng = dict((c, i) for i, c in enumerate(chars_eng))\n",
    "indices_char_eng = dict((i, c) for i, c in enumerate(chars_eng))"
   ]
  },
  {
   "cell_type": "markdown",
   "metadata": {
    "deletable": true,
    "editable": true
   },
   "source": [
    "#### Reading French Language"
   ]
  },
  {
   "cell_type": "code",
   "execution_count": 3,
   "metadata": {
    "collapsed": false,
    "deletable": true,
    "editable": true
   },
   "outputs": [
    {
     "name": "stdout",
     "output_type": "stream",
     "text": [
      "french corpus length: 12009\n",
      "total chars french : 41\n"
     ]
    }
   ],
   "source": [
    "text_frn = open('../data/frn.txt').read().lower()\n",
    "print('french corpus length:', len(text_frn))\n",
    "chars_frn = sorted(list(set(text_frn)))\n",
    "print('total chars french :', len(chars_frn))\n",
    "char_indices_frn = dict((c, i) for i, c in enumerate(chars_frn))\n",
    "indices_char_frn = dict((i, c) for i, c in enumerate(chars_frn))"
   ]
  },
  {
   "cell_type": "markdown",
   "metadata": {
    "deletable": true,
    "editable": true
   },
   "source": [
    "#### Combining both the character sets"
   ]
  },
  {
   "cell_type": "code",
   "execution_count": 4,
   "metadata": {
    "collapsed": false,
    "deletable": true,
    "editable": true
   },
   "outputs": [
    {
     "name": "stdout",
     "output_type": "stream",
     "text": [
      "total chars : 44\n"
     ]
    }
   ],
   "source": [
    "chars = set(chars_eng)\n",
    "chars = sorted(list(chars.union(set(chars_frn))))\n",
    "print('total chars :', len(chars))\n",
    "char_indices = dict((c, i) for i, c in enumerate(chars))\n",
    "indices_char = dict((i, c) for i, c in enumerate(chars))"
   ]
  },
  {
   "cell_type": "markdown",
   "metadata": {
    "deletable": true,
    "editable": true
   },
   "source": [
    "#### Splitting corpus into 80% Training and 20% Testing "
   ]
  },
  {
   "cell_type": "code",
   "execution_count": 5,
   "metadata": {
    "collapsed": true,
    "deletable": true,
    "editable": true
   },
   "outputs": [],
   "source": [
    "text_eng_train = text_eng[:int(0.8*len(text_eng))]\n",
    "text_eng_test = text_eng[int(0.8*len(text_eng)):]\n",
    "text_frn_train = text_frn[:int(0.8*len(text_frn))]\n",
    "text_frn_test = text_frn[int(0.8*len(text_frn)):]"
   ]
  },
  {
   "cell_type": "markdown",
   "metadata": {
    "deletable": true,
    "editable": true
   },
   "source": [
    "#### Function to split the train corpus into sentences"
   ]
  },
  {
   "cell_type": "code",
   "execution_count": 6,
   "metadata": {
    "collapsed": true,
    "deletable": true,
    "editable": true
   },
   "outputs": [],
   "source": [
    "def get_sentences(text, maxlen, step):\n",
    "    sentences = []\n",
    "    next_chars = []\n",
    "    for i in range(0, len(text) - maxlen, step):\n",
    "        sentences.append(text[i: i + maxlen])\n",
    "        next_chars.append(text[i + maxlen])\n",
    "    #print('nb sequences:', len(sentences_eng))\n",
    "    return sentences, next_chars"
   ]
  },
  {
   "cell_type": "code",
   "execution_count": 41,
   "metadata": {
    "collapsed": true,
    "deletable": true,
    "editable": true
   },
   "outputs": [],
   "source": [
    "maxlen = 5\n",
    "step = 1\n",
    "sentences_eng, next_chars_eng = get_sentences(text_eng_train, maxlen, step)\n",
    "sentences_frn, next_chars_frn = get_sentences(text_frn_train, maxlen, step)"
   ]
  },
  {
   "cell_type": "markdown",
   "metadata": {
    "deletable": true,
    "editable": true
   },
   "source": [
    "#### Function to split the test corpus into sentences"
   ]
  },
  {
   "cell_type": "code",
   "execution_count": 42,
   "metadata": {
    "collapsed": true,
    "deletable": true,
    "editable": true
   },
   "outputs": [],
   "source": [
    "def get_sentences_test(text, maxlen, step):\n",
    "    sentences = []\n",
    "    next_string = []\n",
    "    for i in range(0, len(text) - maxlen, step):\n",
    "        sentences.append(text[i: i + maxlen])\n",
    "        next_string.append(text[i + maxlen:i + maxlen +5])\n",
    "    return sentences, next_string"
   ]
  },
  {
   "cell_type": "code",
   "execution_count": 44,
   "metadata": {
    "collapsed": true,
    "deletable": true,
    "editable": true
   },
   "outputs": [],
   "source": [
    "maxlen = 5\n",
    "step = 20\n",
    "sentences_eng_test, next_string_eng_test = get_sentences_test(text_eng_test, maxlen, step)\n",
    "sentences_frn_test, next_string_frn_test = get_sentences_test(text_frn_test, maxlen, step)"
   ]
  },
  {
   "cell_type": "markdown",
   "metadata": {
    "deletable": true,
    "editable": true
   },
   "source": [
    "#### Taking only 100 5 character strings from english and french test corpus"
   ]
  },
  {
   "cell_type": "code",
   "execution_count": 45,
   "metadata": {
    "collapsed": true,
    "deletable": true,
    "editable": true
   },
   "outputs": [],
   "source": [
    "sentences_eng_test = sentences_eng_test[:100]\n",
    "next_string_eng_test = next_string_eng_test[:100]\n",
    "sentences_frn_test = sentences_frn_test[:100]\n",
    "next_string_frn_test = next_string_frn_test[:100]"
   ]
  },
  {
   "cell_type": "markdown",
   "metadata": {
    "deletable": true,
    "editable": true
   },
   "source": [
    "#### Converting sentences to vectors"
   ]
  },
  {
   "cell_type": "code",
   "execution_count": 46,
   "metadata": {
    "collapsed": true,
    "deletable": true,
    "editable": true
   },
   "outputs": [],
   "source": [
    "def get_vectors(sentences, chars, char_indices, next_chars):\n",
    "    X = np.zeros((len(sentences), maxlen, len(chars)), dtype=np.bool)\n",
    "    y = np.zeros((len(sentences), len(chars)), dtype=np.bool)\n",
    "    for i, sentence in enumerate(sentences):\n",
    "        for t, char in enumerate(sentence):\n",
    "            X[i, t, char_indices[char]] = 1\n",
    "        y[i, char_indices[next_chars[i]]] = 1\n",
    "    return X,y"
   ]
  },
  {
   "cell_type": "code",
   "execution_count": 47,
   "metadata": {
    "collapsed": true,
    "deletable": true,
    "editable": true
   },
   "outputs": [],
   "source": [
    "X_eng, y_eng = get_vectors(sentences_eng, chars, char_indices, next_chars_eng)\n",
    "X_frn, y_frn = get_vectors(sentences_frn, chars, char_indices, next_chars_frn)"
   ]
  },
  {
   "cell_type": "markdown",
   "metadata": {
    "deletable": true,
    "editable": true
   },
   "source": [
    "#### Shape of english model training set"
   ]
  },
  {
   "cell_type": "code",
   "execution_count": 48,
   "metadata": {
    "collapsed": false,
    "deletable": true,
    "editable": true
   },
   "outputs": [
    {
     "name": "stdout",
     "output_type": "stream",
     "text": [
      "Shape of X Eng (8591, 5, 44)\n",
      "Shape of Y Eng (8591, 44)\n",
      "Shape of X Frn (9602, 5, 44)\n",
      "Shape of Y Frn (9602, 44)\n"
     ]
    }
   ],
   "source": [
    "print (\"Shape of X Eng\",X_eng.shape)\n",
    "print (\"Shape of Y Eng\",y_eng.shape)\n",
    "print (\"Shape of X Frn\",X_frn.shape)\n",
    "print (\"Shape of Y Frn\",y_frn.shape)"
   ]
  },
  {
   "cell_type": "markdown",
   "metadata": {
    "deletable": true,
    "editable": true
   },
   "source": [
    "#### LSTM Model building"
   ]
  },
  {
   "cell_type": "code",
   "execution_count": 49,
   "metadata": {
    "collapsed": true,
    "deletable": true,
    "editable": true
   },
   "outputs": [],
   "source": [
    "def build_model(chars, maxlen, X, y, name):\n",
    "    model = Sequential()\n",
    "    model.add(LSTM(128, input_shape=(maxlen, len(chars))))\n",
    "    model.add(Dense(len(chars)))\n",
    "    model.add(Activation('softmax'))\n",
    "    optimizer = RMSprop(lr=0.01)\n",
    "    model.compile(loss='categorical_crossentropy', optimizer=optimizer, metrics=['accuracy'])\n",
    "    model.fit(X, y, batch_size=128, epochs=20)\n",
    "    model.save(name)\n",
    "    return model"
   ]
  },
  {
   "cell_type": "code",
   "execution_count": 50,
   "metadata": {
    "collapsed": false,
    "deletable": true,
    "editable": true,
    "scrolled": true
   },
   "outputs": [
    {
     "name": "stdout",
     "output_type": "stream",
     "text": [
      "Epoch 1/20\n",
      "8591/8591 [==============================] - 3s - loss: 2.6823 - acc: 0.2503     \n",
      "Epoch 2/20\n",
      "8591/8591 [==============================] - 2s - loss: 2.0585 - acc: 0.4162     \n",
      "Epoch 3/20\n",
      "8591/8591 [==============================] - 3s - loss: 1.7529 - acc: 0.4898     \n",
      "Epoch 4/20\n",
      "8591/8591 [==============================] - 3s - loss: 1.5503 - acc: 0.5470     \n",
      "Epoch 5/20\n",
      "8591/8591 [==============================] - 3s - loss: 1.3785 - acc: 0.5919     \n",
      "Epoch 6/20\n",
      "8591/8591 [==============================] - 2s - loss: 1.2300 - acc: 0.6303     \n",
      "Epoch 7/20\n",
      "8591/8591 [==============================] - 2s - loss: 1.1060 - acc: 0.6617     \n",
      "Epoch 8/20\n",
      "8591/8591 [==============================] - 3s - loss: 1.0019 - acc: 0.6931     \n",
      "Epoch 9/20\n",
      "8591/8591 [==============================] - 3s - loss: 0.9113 - acc: 0.7217     \n",
      "Epoch 10/20\n",
      "8591/8591 [==============================] - 2s - loss: 0.8331 - acc: 0.7395     \n",
      "Epoch 11/20\n",
      "8591/8591 [==============================] - 3s - loss: 0.7710 - acc: 0.7587     \n",
      "Epoch 12/20\n",
      "8591/8591 [==============================] - 3s - loss: 0.7266 - acc: 0.7700     \n",
      "Epoch 13/20\n",
      "8591/8591 [==============================] - 3s - loss: 0.6837 - acc: 0.7848     \n",
      "Epoch 14/20\n",
      "8591/8591 [==============================] - 3s - loss: 0.6548 - acc: 0.7926     \n",
      "Epoch 15/20\n",
      "8591/8591 [==============================] - 3s - loss: 0.6284 - acc: 0.8003     \n",
      "Epoch 16/20\n",
      "8591/8591 [==============================] - 2s - loss: 0.6087 - acc: 0.8014     \n",
      "Epoch 17/20\n",
      "8591/8591 [==============================] - 3s - loss: 0.5889 - acc: 0.8096     \n",
      "Epoch 18/20\n",
      "8591/8591 [==============================] - 2s - loss: 0.5758 - acc: 0.8112     \n",
      "Epoch 19/20\n",
      "8591/8591 [==============================] - 2s - loss: 0.5630 - acc: 0.8118     \n",
      "Epoch 20/20\n",
      "8591/8591 [==============================] - 2s - loss: 0.5572 - acc: 0.8154     \n",
      "Epoch 1/20\n",
      "9602/9602 [==============================] - 5s - loss: 2.5475 - acc: 0.2727     \n",
      "Epoch 2/20\n",
      "9602/9602 [==============================] - 3s - loss: 2.0072 - acc: 0.3987     \n",
      "Epoch 3/20\n",
      "9602/9602 [==============================] - 3s - loss: 1.7604 - acc: 0.4667     \n",
      "Epoch 4/20\n",
      "9602/9602 [==============================] - 3s - loss: 1.5796 - acc: 0.5184     \n",
      "Epoch 5/20\n",
      "9602/9602 [==============================] - 3s - loss: 1.4296 - acc: 0.5568     \n",
      "Epoch 6/20\n",
      "9602/9602 [==============================] - 3s - loss: 1.2984 - acc: 0.5931     \n",
      "Epoch 7/20\n",
      "9602/9602 [==============================] - 3s - loss: 1.1786 - acc: 0.6258     \n",
      "Epoch 8/20\n",
      "9602/9602 [==============================] - 3s - loss: 1.0826 - acc: 0.6544     \n",
      "Epoch 9/20\n",
      "9602/9602 [==============================] - 3s - loss: 1.0090 - acc: 0.6708     \n",
      "Epoch 10/20\n",
      "9602/9602 [==============================] - 3s - loss: 0.9340 - acc: 0.6921     \n",
      "Epoch 11/20\n",
      "9602/9602 [==============================] - 3s - loss: 0.8667 - acc: 0.7112     \n",
      "Epoch 12/20\n",
      "9602/9602 [==============================] - 3s - loss: 0.8203 - acc: 0.7235     \n",
      "Epoch 13/20\n",
      "9602/9602 [==============================] - 3s - loss: 0.7845 - acc: 0.7378     \n",
      "Epoch 14/20\n",
      "9602/9602 [==============================] - 3s - loss: 0.7595 - acc: 0.7427     \n",
      "Epoch 15/20\n",
      "9602/9602 [==============================] - 3s - loss: 0.7286 - acc: 0.7499     \n",
      "Epoch 16/20\n",
      "9602/9602 [==============================] - 3s - loss: 0.6866 - acc: 0.7607     \n",
      "Epoch 17/20\n",
      "9602/9602 [==============================] - 4s - loss: 0.6893 - acc: 0.7614     \n",
      "Epoch 18/20\n",
      "9602/9602 [==============================] - 3s - loss: 0.6691 - acc: 0.7687     \n",
      "Epoch 19/20\n",
      "9602/9602 [==============================] - 3s - loss: 0.6530 - acc: 0.7691     \n",
      "Epoch 20/20\n",
      "9602/9602 [==============================] - 3s - loss: 0.6434 - acc: 0.7727     \n"
     ]
    }
   ],
   "source": [
    "model_eng = build_model(chars, maxlen, X_eng, y_eng, 'eng.h5')\n",
    "model_frn = build_model(chars, maxlen, X_frn, y_frn, 'frn.h5')"
   ]
  },
  {
   "cell_type": "markdown",
   "metadata": {
    "deletable": true,
    "editable": true
   },
   "source": [
    "#### Get vector for test set"
   ]
  },
  {
   "cell_type": "code",
   "execution_count": 51,
   "metadata": {
    "collapsed": true,
    "deletable": true,
    "editable": true
   },
   "outputs": [],
   "source": [
    "def get_vector(sentence, chars , char_indices ):\n",
    "    X = np.zeros((1, maxlen, len(chars)), dtype=np.bool)\n",
    "    for t, char in enumerate(sentence):\n",
    "        X[0, t, char_indices[char]] = 1\n",
    "    return X"
   ]
  },
  {
   "cell_type": "code",
   "execution_count": 52,
   "metadata": {
    "collapsed": true,
    "deletable": true,
    "editable": true
   },
   "outputs": [],
   "source": [
    "X_test = sentences_eng_test + sentences_frn_test\n",
    "Y_test = next_string_eng_test + next_string_frn_test\n",
    "y_true = ([1] * 100) + ([0] * 100) #1 for English, 0 for French"
   ]
  },
  {
   "cell_type": "code",
   "execution_count": 53,
   "metadata": {
    "collapsed": false,
    "deletable": true,
    "editable": true
   },
   "outputs": [
    {
     "name": "stdout",
     "output_type": "stream",
     "text": [
      "Shape of X_test : 200 5\n",
      "Shape of Y_test : 200 5\n",
      "Shape of Y_true : 200 1\n"
     ]
    }
   ],
   "source": [
    "print(\"Shape of X_test :\",len(X_test),len(X_test[0]))\n",
    "print(\"Shape of Y_test :\",len(Y_test),len(Y_test[0]))\n",
    "print(\"Shape of Y_true :\",len(y_true),1)"
   ]
  },
  {
   "cell_type": "code",
   "execution_count": 54,
   "metadata": {
    "collapsed": true,
    "deletable": true,
    "editable": true
   },
   "outputs": [],
   "source": [
    "from keras import models\n",
    "model_eng = models.load_model('eng.h5')\n",
    "model_frn = models.load_model('frn.h5')"
   ]
  },
  {
   "cell_type": "markdown",
   "metadata": {
    "deletable": true,
    "editable": true
   },
   "source": [
    "#### Prediction of each of the 5 character"
   ]
  },
  {
   "cell_type": "code",
   "execution_count": 57,
   "metadata": {
    "collapsed": true,
    "deletable": true,
    "editable": true
   },
   "outputs": [],
   "source": [
    "def get_predictions(model, X_test,Y_test, chars, indices_char):\n",
    "    y_true_list = []\n",
    "    y_pred_list = []\n",
    "    prob_list = []\n",
    "\n",
    "    for i in range(len(X_test)):\n",
    "        term = X_test[i]\n",
    "        termy = Y_test[i]\n",
    "        x = np.zeros((5, maxlen, len(chars)))\n",
    "        \n",
    "        for i in range(5):\n",
    "            x[i] = get_vector(term[i:]+termy[:i],chars,char_indices) \n",
    "\n",
    "        term_probs = []\n",
    "        for i in range(5):\n",
    "            preds = model.predict(x[i].reshape(1,5,44), verbose=0)[0]\n",
    "            term_probs.append(preds[char_indices[termy[i]]])\n",
    "        \n",
    "        prob_list.append(term_probs)\n",
    "        \n",
    "    return prob_list"
   ]
  },
  {
   "cell_type": "code",
   "execution_count": 58,
   "metadata": {
    "collapsed": true,
    "deletable": true,
    "editable": true
   },
   "outputs": [],
   "source": [
    "y_prob_eng = get_predictions(model_eng, X_test,Y_test ,chars, indices_char)\n",
    "y_prob_frn = get_predictions(model_frn, X_test,Y_test ,chars, indices_char)"
   ]
  },
  {
   "cell_type": "markdown",
   "metadata": {
    "deletable": true,
    "editable": true
   },
   "source": [
    "#### Predicting if it is english or french"
   ]
  },
  {
   "cell_type": "code",
   "execution_count": 59,
   "metadata": {
    "collapsed": true,
    "deletable": true,
    "editable": true
   },
   "outputs": [],
   "source": [
    "def predict_language(prob_eng, prob_frn):\n",
    "    y = [1] * len(prob_eng)\n",
    "    probs_eng = []\n",
    "    probs_frn = []\n",
    "    for i in range(len(prob_eng)):\n",
    "        sum_eng = 0\n",
    "        sum_frn = 0\n",
    "        for j in range(len(prob_eng[0])):\n",
    "            sum_eng += np.log(prob_eng[i][j])\n",
    "            sum_frn += np.log(prob_frn[i][j])\n",
    "        #print (sum_eng,sum_frn)\n",
    "        sum_eng = np.exp(sum_eng)\n",
    "        sum_frn = np.exp(sum_frn)\n",
    "        if sum_eng < sum_frn:\n",
    "            y[i] = 0\n",
    "        probs_eng.append(sum_eng)\n",
    "        probs_frn.append(sum_frn)\n",
    "    return y, probs_eng, probs_frn"
   ]
  },
  {
   "cell_type": "markdown",
   "metadata": {
    "deletable": true,
    "editable": true
   },
   "source": [
    "## ROC in log scale"
   ]
  },
  {
   "cell_type": "code",
   "execution_count": 60,
   "metadata": {
    "collapsed": false,
    "deletable": true,
    "editable": true
   },
   "outputs": [
    {
     "data": {
      "image/png": "[encoded data removed]",
      "text/plain": [
       "<matplotlib.figure.Figure at 0x126a26d68>"
      ]
     },
     "metadata": {},
     "output_type": "display_data"
    },
    {
     "name": "stdout",
     "output_type": "stream",
     "text": [
      "Accuracy :  0.855\n",
      "ROC AUC Score  0.91185\n"
     ]
    }
   ],
   "source": [
    "from sklearn.metrics import roc_auc_score\n",
    "from sklearn.metrics import roc_curve\n",
    "from sklearn.metrics import accuracy_score\n",
    "import matplotlib.pyplot as plt\n",
    "%matplotlib inline\n",
    "\n",
    "y_pred, probs_eng, probs_frn = predict_language(y_prob_eng, y_prob_frn)\n",
    "y_hat = [ prob_eng - prob_frn for prob_eng, prob_frn in zip(probs_eng, probs_frn)]\n",
    "\n",
    "fpr, tpr, thresholds = roc_curve(y_true, y_hat)\n",
    "plt.title('ROC curve y_hat in log scale',fontsize=14)\n",
    "plt.ylabel('True Positive Rate')\n",
    "plt.xlabel('False Positive Rate')\n",
    "plt.yscale('log')\n",
    "plt.plot(fpr, tpr)\n",
    "plt.show()\n",
    "\n",
    "print (\"Accuracy : \",accuracy_score(y_true, y_pred))\n",
    "print(\"ROC AUC Score \", roc_auc_score(y_true, y_hat))"
   ]
  },
  {
   "cell_type": "markdown",
   "metadata": {
    "deletable": true,
    "editable": true
   },
   "source": [
    "## ROC in normal scale"
   ]
  },
  {
   "cell_type": "code",
   "execution_count": 61,
   "metadata": {
    "collapsed": false,
    "deletable": true,
    "editable": true
   },
   "outputs": [
    {
     "data": {
      "image/png": "[encoded data removed]",
      "text/plain": [
       "<matplotlib.figure.Figure at 0x12d7deeb8>"
      ]
     },
     "metadata": {},
     "output_type": "display_data"
    },
    {
     "name": "stdout",
     "output_type": "stream",
     "text": [
      "Accuracy :  0.855\n",
      "ROC AUC Score  0.91185\n"
     ]
    }
   ],
   "source": [
    "fpr, tpr, thresholds = roc_curve(y_true, y_hat)\n",
    "plt.title('ROC curve y_hat in normal scale',fontsize=14)\n",
    "plt.ylabel('True Positive Rate')\n",
    "plt.xlabel('False Positive Rate')\n",
    "plt.plot(fpr, tpr)\n",
    "plt.show()\n",
    "\n",
    "print (\"Accuracy : \",accuracy_score(y_true, y_pred))\n",
    "print(\"ROC AUC Score \", roc_auc_score(y_true, y_hat))"
   ]
  },
  {
   "cell_type": "markdown",
   "metadata": {
    "deletable": true,
    "editable": true
   },
   "source": [
    "## Confusion matrix"
   ]
  },
  {
   "cell_type": "code",
   "execution_count": 62,
   "metadata": {
    "collapsed": true,
    "deletable": true,
    "editable": true
   },
   "outputs": [],
   "source": [
    "from sklearn.metrics import accuracy_score, confusion_matrix \n",
    "acc = []\n",
    "def plot_confusion_matrix(actual,pred):\n",
    "    acc.append(accuracy_score(actual,pred))\n",
    "    print (\"\\nThe overall accuracy score is : \",acc[-1],\"\\n\")\n",
    "    def plot_confusion_matrix(cm, title='Confusion matrix', cmap=plt.cm.Blues):\n",
    "        plt.imshow(cm, interpolation='nearest', cmap=cmap)\n",
    "        plt.title(title)\n",
    "        plt.colorbar()\n",
    "        tick_marks = np.arange(2)\n",
    "        plt.xticks(tick_marks, rotation=45)\n",
    "        plt.yticks(tick_marks)\n",
    "        plt.tight_layout()\n",
    "        plt.ylabel('True label')\n",
    "        plt.xlabel('Predicted label')\n",
    "\n",
    "    cm = confusion_matrix(actual,pred)\n",
    "    np.set_printoptions(precision=2)\n",
    "    print('Confusion matrix')\n",
    "    print(cm)\n",
    "    plt.figure()\n",
    "    plot_confusion_matrix(cm)  "
   ]
  },
  {
   "cell_type": "code",
   "execution_count": 63,
   "metadata": {
    "collapsed": false,
    "deletable": true,
    "editable": true
   },
   "outputs": [
    {
     "name": "stdout",
     "output_type": "stream",
     "text": [
      "\n",
      "The overall accuracy score is :  0.855 \n",
      "\n",
      "Confusion matrix\n",
      "[[89 11]\n",
      " [18 82]]\n"
     ]
    },
    {
     "data": {
      "image/png": "[encoded data removed]",
      "text/plain": [
       "<matplotlib.figure.Figure at 0x12d73b160>"
      ]
     },
     "metadata": {},
     "output_type": "display_data"
    }
   ],
   "source": [
    "plot_confusion_matrix(y_true, y_pred)"
   ]
  },
  {
   "cell_type": "markdown",
   "metadata": {
    "deletable": true,
    "editable": true
   },
   "source": [
    "## Part 2 -- Additional experiments\n",
    "\n",
    "\n",
    "## Experiment 1 - Language detector by classification using LSTM"
   ]
  },
  {
   "cell_type": "markdown",
   "metadata": {
    "deletable": true,
    "editable": true
   },
   "source": [
    "Instead of string scoring and creating one model for each language and then creating a binary classifier over them we wanted to combine the corpus and create a LSTM binary classifier over it. The features for the LSTM is a list of 5 sets of words each of them converted to a vector of length 100. The dimension is (None , 5 , 100 ) . Both of the corpuses was preprocessed and split into 80% train 20% test. The train set was converted to sentences using nltk tokenizers and the words were preprocessed using beautiful soup. These sentences were then used to create a gensim word2vec model. The words from both the corpus was then converted to 5 sets of words with Y = 1 for english and Y = 0 for french."
   ]
  },
  {
   "cell_type": "code",
   "execution_count": 64,
   "metadata": {
    "collapsed": true,
    "deletable": true,
    "editable": true
   },
   "outputs": [],
   "source": [
    "from bs4 import BeautifulSoup \n",
    "import nltk\n",
    "import pandas as pd\n",
    "from bs4 import BeautifulSoup\n",
    "import re\n",
    "import numpy as np\n",
    "from gensim.models import Word2Vec,KeyedVectors\n",
    "pd.set_option('max_colwidth',400)\n",
    "import warnings\n",
    "warnings.filterwarnings(\"ignore\", category=UserWarning, module='bs4')"
   ]
  },
  {
   "cell_type": "markdown",
   "metadata": {
    "deletable": true,
    "editable": true
   },
   "source": [
    "#### Make sentence into words"
   ]
  },
  {
   "cell_type": "code",
   "execution_count": 65,
   "metadata": {
    "collapsed": true,
    "deletable": true,
    "editable": true
   },
   "outputs": [],
   "source": [
    "def get_words( corpus ):\n",
    "    corpus_text = BeautifulSoup(corpus,\"lxml\").get_text()\n",
    "    words = corpus_text.lower().split()\n",
    "    return(words)"
   ]
  },
  {
   "cell_type": "markdown",
   "metadata": {
    "deletable": true,
    "editable": true
   },
   "source": [
    "#### Make corpus into sentences"
   ]
  },
  {
   "cell_type": "code",
   "execution_count": 66,
   "metadata": {
    "collapsed": true,
    "deletable": true,
    "editable": true
   },
   "outputs": [],
   "source": [
    "def get_sentences( corpus , lang):\n",
    "    if(lang == 'eng'):\n",
    "        tokenizer = nltk.data.load('tokenizers/punkt/english.pickle')\n",
    "    else:\n",
    "        tokenizer = nltk.data.load('tokenizers/punkt/french.pickle')     \n",
    "    raw_sentences = tokenizer.tokenize(corpus.strip())\n",
    "    sentences = []\n",
    "    for raw_sentence in raw_sentences:\n",
    "        if len(raw_sentence) > 0:\n",
    "            sentences.append( get_words( raw_sentence ))\n",
    "    return sentences"
   ]
  },
  {
   "cell_type": "markdown",
   "metadata": {
    "deletable": true,
    "editable": true
   },
   "source": [
    "#### Sentences to train the models"
   ]
  },
  {
   "cell_type": "code",
   "execution_count": 67,
   "metadata": {
    "collapsed": true,
    "deletable": true,
    "editable": true
   },
   "outputs": [],
   "source": [
    "sentences_eng = get_sentences(text_eng_train,'eng')\n",
    "sentences_frn = get_sentences(text_frn_train,'frn')"
   ]
  },
  {
   "cell_type": "markdown",
   "metadata": {
    "deletable": true,
    "editable": true
   },
   "source": [
    "#### Forming the Train and Test data"
   ]
  },
  {
   "cell_type": "code",
   "execution_count": 71,
   "metadata": {
    "collapsed": true,
    "deletable": true,
    "editable": true
   },
   "outputs": [],
   "source": [
    "words_eng_train = get_words(text_eng_train)\n",
    "words_frn_train = get_words(text_frn_train)\n",
    "words_eng_test = get_words(text_eng_test)\n",
    "words_frn_test = get_words(text_frn_test)"
   ]
  },
  {
   "cell_type": "markdown",
   "metadata": {
    "deletable": true,
    "editable": true
   },
   "source": [
    "## Word2Vec for English Model "
   ]
  },
  {
   "cell_type": "code",
   "execution_count": 68,
   "metadata": {
    "collapsed": false,
    "deletable": true,
    "editable": true
   },
   "outputs": [
    {
     "name": "stdout",
     "output_type": "stream",
     "text": [
      "Shape of Z :  (519, 100)\n"
     ]
    }
   ],
   "source": [
    "context = 5   \n",
    "embedding_dimension = 100                    \n",
    "min_words = 1                                                                                                             \n",
    "model_eng = Word2Vec(sentences_eng, size = embedding_dimension, min_count = min_words, window = context)\n",
    "model_eng.init_sims(replace=True)\n",
    "Z_eng = model_eng.wv.syn0\n",
    "print (\"Shape of Z : \", Z_eng.shape)"
   ]
  },
  {
   "cell_type": "code",
   "execution_count": 69,
   "metadata": {
    "collapsed": true,
    "deletable": true,
    "editable": true
   },
   "outputs": [],
   "source": [
    "dict_word_vec_eng = {}\n",
    "i = 0\n",
    "for key in model_eng.wv.index2word:\n",
    "    dict_word_vec_eng[key]=Z_eng[i]\n",
    "    i+=1"
   ]
  },
  {
   "cell_type": "markdown",
   "metadata": {
    "deletable": true,
    "editable": true
   },
   "source": [
    "#### Converting list of 5 words to list of 5 vectors - train"
   ]
  },
  {
   "cell_type": "code",
   "execution_count": 72,
   "metadata": {
    "collapsed": true,
    "deletable": true,
    "editable": true
   },
   "outputs": [],
   "source": [
    "i = 0\n",
    "x_five_words_eng_train = []\n",
    "for i in range(len(words_eng_train)):\n",
    "    if(i+1<len(words_eng_train)):\n",
    "        temp_five=[]\n",
    "        for j in range(i,i+1):\n",
    "            temp_five.append(dict_word_vec_eng[words_eng_train[j]])           \n",
    "        x_five_words_eng_train.append(temp_five)"
   ]
  },
  {
   "cell_type": "markdown",
   "metadata": {
    "deletable": true,
    "editable": true
   },
   "source": [
    "#### Converting list of 5 words to list of 5 vectors - test"
   ]
  },
  {
   "cell_type": "code",
   "execution_count": 73,
   "metadata": {
    "collapsed": true,
    "deletable": true,
    "editable": true
   },
   "outputs": [],
   "source": [
    "i = 0\n",
    "x_five_words_eng_test = []\n",
    "c_eng_miss = 0\n",
    "flag = 0\n",
    "for i in range(len(words_eng_test)):\n",
    "    if(i+1<len(words_eng_test)):\n",
    "        temp_five=[]\n",
    "        for j in range(i,i+1):\n",
    "            if(words_eng_test[j] in dict_word_vec_eng):\n",
    "                temp_five.append(dict_word_vec_eng[words_eng_test[j]]) \n",
    "            else:\n",
    "                c_eng_miss+=1\n",
    "                #print (words_eng_test[j])\n",
    "        if(len(temp_five)==1):\n",
    "            x_five_words_eng_test.append(temp_five)"
   ]
  },
  {
   "cell_type": "markdown",
   "metadata": {
    "deletable": true,
    "editable": true
   },
   "source": [
    "## Word2Vec for French Model"
   ]
  },
  {
   "cell_type": "code",
   "execution_count": 74,
   "metadata": {
    "collapsed": false,
    "deletable": true,
    "editable": true
   },
   "outputs": [
    {
     "name": "stdout",
     "output_type": "stream",
     "text": [
      "Shape of Z :  (606, 100)\n"
     ]
    }
   ],
   "source": [
    "context = 5   \n",
    "embedding_dimension = 100                    \n",
    "min_words = 1                                                                                                             \n",
    "model_frn = Word2Vec(sentences_frn, size = embedding_dimension, min_count = min_words, window = context)\n",
    "model_frn.init_sims(replace=True)\n",
    "Z_frn = model_frn.wv.syn0\n",
    "print (\"Shape of Z : \", Z_frn.shape)"
   ]
  },
  {
   "cell_type": "code",
   "execution_count": 75,
   "metadata": {
    "collapsed": true,
    "deletable": true,
    "editable": true
   },
   "outputs": [],
   "source": [
    "dict_word_vec_frn = {}\n",
    "i = 0\n",
    "for key in model_frn.wv.index2word:\n",
    "    dict_word_vec_frn[key]=Z_frn[i]\n",
    "    i+=1"
   ]
  },
  {
   "cell_type": "markdown",
   "metadata": {
    "deletable": true,
    "editable": true
   },
   "source": [
    "#### Converting list of 5 words to list of 5 vectors - train"
   ]
  },
  {
   "cell_type": "code",
   "execution_count": 76,
   "metadata": {
    "collapsed": true,
    "deletable": true,
    "editable": true
   },
   "outputs": [],
   "source": [
    "i = 0\n",
    "x_five_words_frn_train = []\n",
    "for i in range(len(words_frn_train)):\n",
    "    if(i+1<len(words_frn_train)):\n",
    "        temp_five=[]\n",
    "        for j in range(i,i+1):\n",
    "            temp_five.append(dict_word_vec_frn[words_frn_train[j]])           \n",
    "        x_five_words_frn_train.append(temp_five)"
   ]
  },
  {
   "cell_type": "markdown",
   "metadata": {
    "deletable": true,
    "editable": true
   },
   "source": [
    "#### Converting list of 5 words to list of 5 vectors - test"
   ]
  },
  {
   "cell_type": "code",
   "execution_count": 77,
   "metadata": {
    "collapsed": true,
    "deletable": true,
    "editable": true
   },
   "outputs": [],
   "source": [
    "i = 0\n",
    "c_frn_miss = 0\n",
    "x_five_words_frn_test = []\n",
    "for i in range(len(words_frn_test)):\n",
    "    if(i+1<len(words_frn_test)):\n",
    "        temp_five=[]\n",
    "        for j in range(i,i+1):\n",
    "            if(words_frn_test[j] in dict_word_vec_frn):\n",
    "                temp_five.append(dict_word_vec_frn[words_frn_test[j]]) \n",
    "            else:\n",
    "                c_frn_miss+=1\n",
    "        if(len(temp_five)==1):\n",
    "            x_five_words_frn_test.append(temp_five)"
   ]
  },
  {
   "cell_type": "markdown",
   "metadata": {
    "deletable": true,
    "editable": true
   },
   "source": [
    "#### Creating train and test from both english and french corpus"
   ]
  },
  {
   "cell_type": "code",
   "execution_count": 78,
   "metadata": {
    "collapsed": true,
    "deletable": true,
    "editable": true
   },
   "outputs": [],
   "source": [
    "y_train = [1]*len(x_five_words_eng_train)+[0]*len(x_five_words_frn_train)\n",
    "y_test = [1]*len(x_five_words_eng_test)+[0]*len(x_five_words_frn_test)\n",
    "y_train = np.array(y_train)\n",
    "testY = np.array(y_test)"
   ]
  },
  {
   "cell_type": "code",
   "execution_count": 79,
   "metadata": {
    "collapsed": true,
    "deletable": true,
    "editable": true
   },
   "outputs": [],
   "source": [
    "x_train = x_five_words_eng_train + x_five_words_frn_train\n",
    "x_train = np.array(x_train)\n",
    "x_test = x_five_words_eng_test + x_five_words_frn_test\n",
    "testX = np.array(x_test)"
   ]
  },
  {
   "cell_type": "code",
   "execution_count": 80,
   "metadata": {
    "collapsed": true,
    "deletable": true,
    "editable": true
   },
   "outputs": [],
   "source": [
    "from sklearn.utils import shuffle\n",
    "trainX, trainY = shuffle(x_train, y_train, random_state=0)"
   ]
  },
  {
   "cell_type": "markdown",
   "metadata": {
    "deletable": true,
    "editable": true
   },
   "source": [
    "#### Building model "
   ]
  },
  {
   "cell_type": "code",
   "execution_count": 81,
   "metadata": {
    "collapsed": true,
    "deletable": true,
    "editable": true
   },
   "outputs": [],
   "source": [
    "def build_model_2(maxlen, X, y):\n",
    "    model = Sequential()\n",
    "    model.add(LSTM(128, input_shape=(1,100)))\n",
    "    #model.add(Dense(1))\n",
    "    model.add(Dense(1, activation='sigmoid'))\n",
    "    model.compile(loss='binary_crossentropy', optimizer='adadelta', metrics=['accuracy'])\n",
    "    model.fit(X, y, batch_size=128, epochs=20)\n",
    "    return model"
   ]
  },
  {
   "cell_type": "code",
   "execution_count": 82,
   "metadata": {
    "collapsed": false,
    "deletable": true,
    "editable": true
   },
   "outputs": [
    {
     "name": "stdout",
     "output_type": "stream",
     "text": [
      "Epoch 1/20\n",
      "3007/3007 [==============================] - 1s - loss: 0.6750 - acc: 0.8081     \n",
      "Epoch 2/20\n",
      "3007/3007 [==============================] - 0s - loss: 0.6360 - acc: 0.8916     \n",
      "Epoch 3/20\n",
      "3007/3007 [==============================] - 0s - loss: 0.5847 - acc: 0.9102     \n",
      "Epoch 4/20\n",
      "3007/3007 [==============================] - 0s - loss: 0.5184 - acc: 0.9172     \n",
      "Epoch 5/20\n",
      "3007/3007 [==============================] - 0s - loss: 0.4437 - acc: 0.9242     \n",
      "Epoch 6/20\n",
      "3007/3007 [==============================] - 0s - loss: 0.3740 - acc: 0.9278     \n",
      "Epoch 7/20\n",
      "3007/3007 [==============================] - 0s - loss: 0.3184 - acc: 0.9308     \n",
      "Epoch 8/20\n",
      "3007/3007 [==============================] - 0s - loss: 0.2778 - acc: 0.9342     \n",
      "Epoch 9/20\n",
      "3007/3007 [==============================] - 0s - loss: 0.2486 - acc: 0.9345     \n",
      "Epoch 10/20\n",
      "3007/3007 [==============================] - 0s - loss: 0.2275 - acc: 0.9352     \n",
      "Epoch 11/20\n",
      "3007/3007 [==============================] - 0s - loss: 0.2117 - acc: 0.9358     \n",
      "Epoch 12/20\n",
      "3007/3007 [==============================] - 0s - loss: 0.1996 - acc: 0.9358     \n",
      "Epoch 13/20\n",
      "3007/3007 [==============================] - 0s - loss: 0.1902 - acc: 0.9368     \n",
      "Epoch 14/20\n",
      "3007/3007 [==============================] - 0s - loss: 0.1826 - acc: 0.9368     \n",
      "Epoch 15/20\n",
      "3007/3007 [==============================] - 0s - loss: 0.1764 - acc: 0.9365     \n",
      "Epoch 16/20\n",
      "3007/3007 [==============================] - 0s - loss: 0.1712 - acc: 0.9368     \n",
      "Epoch 17/20\n",
      "3007/3007 [==============================] - 0s - loss: 0.1668 - acc: 0.9368     \n",
      "Epoch 18/20\n",
      "3007/3007 [==============================] - 0s - loss: 0.1631 - acc: 0.9381     \n",
      "Epoch 19/20\n",
      "3007/3007 [==============================] - 0s - loss: 0.1599 - acc: 0.9381     \n",
      "Epoch 20/20\n",
      "3007/3007 [==============================] - 0s - loss: 0.1571 - acc: 0.9395     \n"
     ]
    }
   ],
   "source": [
    "model_2 = build_model_2(1, trainX, trainY)"
   ]
  },
  {
   "cell_type": "code",
   "execution_count": 83,
   "metadata": {
    "collapsed": false,
    "deletable": true,
    "editable": true
   },
   "outputs": [
    {
     "name": "stdout",
     "output_type": "stream",
     "text": [
      "Accuracy 0.959107806691\n"
     ]
    }
   ],
   "source": [
    "preds = model_2.predict(testX, verbose=0)\n",
    "pred_y = [1 if pred>0.5 else 0 for pred in preds]\n",
    "print (\"Accuracy\",accuracy_score(testY.tolist(), pred_y))"
   ]
  },
  {
   "cell_type": "markdown",
   "metadata": {
    "deletable": true,
    "editable": true
   },
   "source": [
    "## Experiment 2 - NGrams\n",
    "Here, we used N-grams for language detection. We generate n-grams from the training data and use them as language profiles. We then generate n-grams from the test data, which constitutes the document profile. We compare the document profile with each language profile and choose the language that has the minimum distance from the language profile."
   ]
  },
  {
   "cell_type": "markdown",
   "metadata": {
    "deletable": true,
    "editable": true
   },
   "source": [
    "#### Generating N-grams\n",
    "Given a set of tokens, N-grams are generated ror N = 1 to 5."
   ]
  },
  {
   "cell_type": "code",
   "execution_count": 1,
   "metadata": {
    "collapsed": true,
    "deletable": true,
    "editable": true
   },
   "outputs": [],
   "source": [
    "from nltk.util import ngrams\n",
    "def generate_ngrams(tokens):\n",
    "\n",
    "    generated_ngrams = []\n",
    "\n",
    "    for token in tokens:\n",
    "        \n",
    "        for x in range(1, 6): # generate N-grams, for N=1 to 5\n",
    "            xngrams = ngrams(token, x)\n",
    "\n",
    "            for xngram in xngrams:\n",
    "                # convert ('E', 'X', 'T', ' ') to 'EXT '\n",
    "                ngram = ''.join(xngram)\n",
    "                generated_ngrams.append(ngram)\n",
    "\n",
    "    return generated_ngrams"
   ]
  },
  {
   "cell_type": "markdown",
   "metadata": {
    "deletable": true,
    "editable": true
   },
   "source": [
    "#### Creating a mapping of N-Grams to counts\n",
    "This is used to build the language and document profiles"
   ]
  },
  {
   "cell_type": "code",
   "execution_count": 2,
   "metadata": {
    "collapsed": true,
    "deletable": true,
    "editable": true
   },
   "outputs": [],
   "source": [
    "from nltk.tokenize import RegexpTokenizer\n",
    "import operator\n",
    "def calculate_ngram_occurrences(text):\n",
    "\n",
    "    tokenizer = RegexpTokenizer(\"[a-zA-Z'`éèî]+\")\n",
    "    tokens = tokenizer.tokenize(text)\n",
    "    ngrams_list = generate_ngrams(tokens)\n",
    "\n",
    "    ngrams_statistics = {}\n",
    "\n",
    "    for ngram in ngrams_list:\n",
    "        if ngram not in ngrams_statistics:\n",
    "            ngrams_statistics.update({ngram:1})\n",
    "        else:\n",
    "            ngram_occurrences = ngrams_statistics[ngram]\n",
    "            ngrams_statistics.update({ngram:ngram_occurrences+1})\n",
    "\n",
    "    ngrams_statistics_sorted = sorted(ngrams_statistics.items(),\\\n",
    "                                      key=operator.itemgetter(1),\\\n",
    "                                      reverse=True)[0:300]\n",
    "\n",
    "    return ngrams_statistics_sorted"
   ]
  },
  {
   "cell_type": "markdown",
   "metadata": {
    "deletable": true,
    "editable": true
   },
   "source": [
    "#### Loading the data and creating language profiles"
   ]
  },
  {
   "cell_type": "code",
   "execution_count": 3,
   "metadata": {
    "collapsed": true,
    "deletable": true,
    "editable": true
   },
   "outputs": [],
   "source": [
    "text_eng = open('../data/eng.txt', mode='r').read()\n",
    "text_frn = open('../data/frn.txt', mode='r').read()\n",
    "text_eng_train = text_eng[:int(0.8*len(text_eng))]\n",
    "text_eng_test = text_eng[int(0.8*len(text_eng)):]\n",
    "text_frn_train = text_frn[:int(0.8*len(text_frn))]\n",
    "text_frn_test = text_frn[int(0.8*len(text_frn)):]"
   ]
  },
  {
   "cell_type": "code",
   "execution_count": 4,
   "metadata": {
    "collapsed": false,
    "deletable": true,
    "editable": true
   },
   "outputs": [
    {
     "name": "stderr",
     "output_type": "stream",
     "text": [
      "/Users/kiran/python_3/lib/python3.6/site-packages/ipykernel/__main__.py:11: DeprecationWarning: generator 'ngrams' raised StopIteration\n"
     ]
    }
   ],
   "source": [
    "# Create English profile\n",
    "profile_ngrams_sorted = calculate_ngram_occurrences(text_eng_train)\n",
    "fd = open('../data/ngrams-eng.dat', mode='w')\n",
    "for ngram in profile_ngrams_sorted:\n",
    "    fd.write('%s\\t%s\\n' % (ngram[0], ngram[1]))\n",
    "fd.close()"
   ]
  },
  {
   "cell_type": "code",
   "execution_count": 5,
   "metadata": {
    "collapsed": false,
    "deletable": true,
    "editable": true
   },
   "outputs": [
    {
     "name": "stderr",
     "output_type": "stream",
     "text": [
      "/Users/kiran/python_3/lib/python3.6/site-packages/ipykernel/__main__.py:11: DeprecationWarning: generator 'ngrams' raised StopIteration\n"
     ]
    }
   ],
   "source": [
    "# Create French profile\n",
    "profile_ngrams_sorted = calculate_ngram_occurrences(text_frn_train)\n",
    "fd = open('../data/ngrams-frn.dat', mode='w')\n",
    "for ngram in profile_ngrams_sorted:\n",
    "    fd.write('%s\\t%s\\n' % (ngram[0], ngram[1]))\n",
    "fd.close()"
   ]
  },
  {
   "cell_type": "markdown",
   "metadata": {
    "deletable": true,
    "editable": true
   },
   "source": [
    "#### Comparing language profile with document profile\n",
    "The distance is calculated by summing up the difference in the indices of each N-gram in the sorted document profile and its corresponding N-gram in the sorted language profile. If a particular N-gram is not present in the language profile, the distance is set to a fixed maximum out-of-place value."
   ]
  },
  {
   "cell_type": "code",
   "execution_count": 6,
   "metadata": {
    "collapsed": true,
    "deletable": true,
    "editable": true
   },
   "outputs": [],
   "source": [
    "def compare_ngram_frequency_profiles(category_profile, document_profile):\n",
    "\n",
    "    document_distance = 0\n",
    "\n",
    "    # convert [['eas ', 487], ['going', 437], ...] to ['eas', 'going', ...]\n",
    "    category_ngrams_sorted = [ngram[0] for ngram in category_profile]\n",
    "    document_ngrams_sorted = [ngram[0] for ngram in document_profile]\n",
    "\n",
    "    maximum_out_of_place_value = len(document_ngrams_sorted)\n",
    "\n",
    "    for ngram in document_ngrams_sorted:\n",
    "        # pick up index position of ngram\n",
    "        document_index = document_ngrams_sorted.index(ngram)\n",
    "        try:\n",
    "            # check if analyzed ngram exists in pre-computed category\n",
    "            category_profile_index = category_ngrams_sorted.index(ngram)\n",
    "        except ValueError:\n",
    "            #If an N-gram is not in the category profile,\n",
    "            #it takes some maximum out-of-place value.\n",
    "            category_profile_index = maximum_out_of_place_value\n",
    "\n",
    "        distance = abs(category_profile_index-document_index)\n",
    "        document_distance+=distance\n",
    "\n",
    "    return document_distance"
   ]
  },
  {
   "cell_type": "markdown",
   "metadata": {
    "deletable": true,
    "editable": true
   },
   "source": [
    "#### Detecting language\n",
    "The language of a document is detected by finding its distance to each language and choosing the one corresponding to the minimum distance."
   ]
  },
  {
   "cell_type": "code",
   "execution_count": 7,
   "metadata": {
    "collapsed": true,
    "deletable": true,
    "editable": true
   },
   "outputs": [],
   "source": [
    "def guess_language(raw_text):\n",
    "    \n",
    "    languages_ratios = {}\n",
    "    languages_statistics = {}\n",
    "\n",
    "    ngram_statistics = open('../data/ngrams-eng.dat', mode='r').readlines()\n",
    "    ngram_statistics = map(str.rstrip, ngram_statistics) # remove edge trailing\n",
    "    languages_statistics.update({'1':ngram_statistics})\n",
    "\n",
    "    ngram_statistics = open('../data/ngrams-frn.dat', mode='r').readlines()\n",
    "    ngram_statistics = map(str.rstrip, ngram_statistics) # remove edge trailing\n",
    "    languages_statistics.update({'0':ngram_statistics})\n",
    "\n",
    "    for language, ngrams_statistics in languages_statistics.items():\n",
    "        language_ngram_statistics = calculate_ngram_occurrences(raw_text)\n",
    "        distance = compare_ngram_frequency_profiles(ngrams_statistics, language_ngram_statistics)\n",
    "\n",
    "        languages_ratios.update({language:distance})\n",
    "\n",
    "    nearest_language = min(languages_ratios, key=languages_ratios.get)\n",
    "\n",
    "    return nearest_language"
   ]
  },
  {
   "cell_type": "markdown",
   "metadata": {
    "deletable": true,
    "editable": true
   },
   "source": [
    "#### Tokenizing the test data and detecting its language"
   ]
  },
  {
   "cell_type": "code",
   "execution_count": 8,
   "metadata": {
    "collapsed": true,
    "deletable": true,
    "editable": true
   },
   "outputs": [],
   "source": [
    "import nltk.data\n",
    "\n",
    "tokenizer = nltk.data.load('tokenizers/punkt/english.pickle')\n",
    "sentences_eng_test = tokenizer.tokenize(text_eng_test)\n",
    "\n",
    "tokenizer = nltk.data.load('tokenizers/punkt/french.pickle')\n",
    "sentences_frn_test = tokenizer.tokenize(text_frn_test)"
   ]
  },
  {
   "cell_type": "code",
   "execution_count": 9,
   "metadata": {
    "collapsed": true,
    "deletable": true,
    "editable": true
   },
   "outputs": [],
   "source": [
    "#removing sentences like '1.', '2.' etc.\n",
    "sentences_eng_test = [x for x in sentences_eng_test if len(x) > 2]\n",
    "sentences_frn_test = [x for x in sentences_frn_test if len(x) > 2]\n",
    "\n",
    "X_test = sentences_eng_test + sentences_frn_test\n",
    "y_true = ([1] * len(sentences_eng_test)) + ([0] * len(sentences_frn_test)) #1 for English, 0 for French"
   ]
  },
  {
   "cell_type": "code",
   "execution_count": 10,
   "metadata": {
    "collapsed": false,
    "deletable": true,
    "editable": true
   },
   "outputs": [
    {
     "name": "stderr",
     "output_type": "stream",
     "text": [
      "/Users/kiran/python_3/lib/python3.6/site-packages/ipykernel/__main__.py:11: DeprecationWarning: generator 'ngrams' raised StopIteration\n"
     ]
    }
   ],
   "source": [
    "y_pred = []\n",
    "for line in X_test:\n",
    "    y_pred.append(int(guess_language(line)))"
   ]
  },
  {
   "cell_type": "code",
   "execution_count": 11,
   "metadata": {
    "collapsed": false,
    "deletable": true,
    "editable": true
   },
   "outputs": [
    {
     "name": "stdout",
     "output_type": "stream",
     "text": [
      "0.888888888889\n"
     ]
    }
   ],
   "source": [
    "from sklearn.metrics import accuracy_score\n",
    "print(accuracy_score(y_true, y_pred))"
   ]
  },
  {
   "cell_type": "markdown",
   "metadata": {
    "deletable": true,
    "editable": true
   },
   "source": [
    "## Experiment 3 -Stop Words\n",
    "We also tried out a very simple approach that uses stop words to detect language."
   ]
  },
  {
   "cell_type": "markdown",
   "metadata": {
    "deletable": true,
    "editable": true
   },
   "source": [
    "#### Language detection with stopwords\n",
    "The input text is first tokenized using NLTK's wordpunct_tokenize method, which in addition to tokenizing the words, will also split up punctuations into tokens.\n",
    "The tokenized input is then compared to the stopwords (obtained from NLTK) for each language, and the language with the highest number of common stopwords with the input text is chosen."
   ]
  },
  {
   "cell_type": "code",
   "execution_count": 12,
   "metadata": {
    "collapsed": true,
    "deletable": true,
    "editable": true
   },
   "outputs": [],
   "source": [
    "from nltk import wordpunct_tokenize\n",
    "from nltk.corpus import stopwords\n",
    "\n",
    "def detect_language(text):\n",
    "    languages_ratios = {}\n",
    "    tokens = wordpunct_tokenize(text)\n",
    "    words = [word.lower() for word in tokens]\n",
    "    languages = ['english', 'french']\n",
    "\n",
    "    for language in languages:\n",
    "        stopwords_set = set(stopwords.words(language))\n",
    "        words_set = set(words)\n",
    "        common_elements = words_set.intersection(stopwords_set)\n",
    "\n",
    "        languages_ratios[language] = len(common_elements)\n",
    "\n",
    "    most_rated_language = max(languages_ratios, key = languages_ratios.get)\n",
    "\n",
    "    return most_rated_language"
   ]
  },
  {
   "cell_type": "code",
   "execution_count": 13,
   "metadata": {
    "collapsed": true,
    "deletable": true,
    "editable": true
   },
   "outputs": [],
   "source": [
    "y_pred = []\n",
    "for sentence in X_test:\n",
    "    language = detect_language(sentence)\n",
    "    if language == 'english':\n",
    "        y_pred.append(1)\n",
    "    else:\n",
    "        y_pred.append(0)"
   ]
  },
  {
   "cell_type": "code",
   "execution_count": 14,
   "metadata": {
    "collapsed": false,
    "deletable": true,
    "editable": true
   },
   "outputs": [
    {
     "name": "stdout",
     "output_type": "stream",
     "text": [
      "0.888888888889\n"
     ]
    }
   ],
   "source": [
    "from sklearn.metrics import accuracy_score\n",
    "print(accuracy_score(y_true, y_pred))"
   ]
  },
  {
   "cell_type": "markdown",
   "metadata": {
    "deletable": true,
    "editable": true
   },
   "source": [
    "## Experiment 4 - Bag of Words\n",
    "We converted the sentences into feature vectors using the Bag of Words model, and used it for language detection."
   ]
  },
  {
   "cell_type": "markdown",
   "metadata": {
    "deletable": true,
    "editable": true
   },
   "source": [
    "#### Reading the data\n",
    "Both the train and test data are split into sentences."
   ]
  },
  {
   "cell_type": "code",
   "execution_count": 18,
   "metadata": {
    "collapsed": true,
    "deletable": true,
    "editable": true
   },
   "outputs": [],
   "source": [
    "import nltk.data\n",
    "\n",
    "tokenizer = nltk.data.load('tokenizers/punkt/english.pickle')\n",
    "sentences_eng_test = tokenizer.tokenize(text_eng_test)\n",
    "sentences_eng_train = tokenizer.tokenize(text_eng_train)\n",
    "\n",
    "tokenizer = nltk.data.load('tokenizers/punkt/french.pickle')\n",
    "sentences_frn_test = tokenizer.tokenize(text_frn_test)\n",
    "sentences_frn_train = tokenizer.tokenize(text_frn_train)"
   ]
  },
  {
   "cell_type": "code",
   "execution_count": 19,
   "metadata": {
    "collapsed": false,
    "deletable": true,
    "editable": true
   },
   "outputs": [],
   "source": [
    "sentences_eng_test = [x for x in sentences_eng_test if len(x) > 2]\n",
    "sentences_frn_test = [x for x in sentences_frn_test if len(x) > 2]\n",
    "sentences_eng_train = [x for x in sentences_eng_train if len(x) > 2]\n",
    "sentences_frn_train = [x for x in sentences_frn_train if len(x) > 2]\n",
    "\n",
    "X_test = sentences_eng_test + sentences_frn_test\n",
    "X_train = sentences_eng_train + sentences_frn_train\n",
    "X_train = sentences_eng_train + sentences_frn_train\n",
    "y_test = ([1] * len(sentences_eng_test)) + ([0] * len(sentences_frn_test)) #1 for English, 0 for French\n",
    "y_train = ([1] * len(sentences_eng_train)) + ([0] * len(sentences_frn_train))"
   ]
  },
  {
   "cell_type": "markdown",
   "metadata": {
    "deletable": true,
    "editable": true
   },
   "source": [
    "#### Generating feature vectors using Bag of Words"
   ]
  },
  {
   "cell_type": "code",
   "execution_count": 20,
   "metadata": {
    "collapsed": false,
    "deletable": true,
    "editable": true
   },
   "outputs": [
    {
     "name": "stdout",
     "output_type": "stream",
     "text": [
      "Creating the bag of words\n"
     ]
    }
   ],
   "source": [
    "from sklearn.feature_extraction.text import CountVectorizer\n",
    "\n",
    "print(\"Creating the bag of words\")      \n",
    "vectorizer = CountVectorizer(analyzer = \"word\", tokenizer = None, preprocessor = None, stop_words = None, max_features = 5000) \n",
    "train_data_features = vectorizer.fit_transform(X_train)\n",
    "X_bow_train = train_data_features.toarray()\n",
    "test_data_features = vectorizer.transform(X_test)\n",
    "X_bow_test = test_data_features.toarray()"
   ]
  },
  {
   "cell_type": "markdown",
   "metadata": {
    "deletable": true,
    "editable": true
   },
   "source": [
    "#### Training a RandomForest classifier with the generated feature vectors"
   ]
  },
  {
   "cell_type": "code",
   "execution_count": 21,
   "metadata": {
    "collapsed": false,
    "deletable": true,
    "editable": true
   },
   "outputs": [],
   "source": [
    "from sklearn.ensemble import RandomForestClassifier\n",
    "\n",
    "forest = RandomForestClassifier(n_estimators = 100) \n",
    "forest = forest.fit( X_bow_train, y_train )"
   ]
  },
  {
   "cell_type": "markdown",
   "metadata": {
    "deletable": true,
    "editable": true
   },
   "source": [
    "#### Language detection\n",
    "This is treated as a simple classification task, where label 1 represents English and 0 represents French."
   ]
  },
  {
   "cell_type": "code",
   "execution_count": 22,
   "metadata": {
    "collapsed": false,
    "deletable": true,
    "editable": true
   },
   "outputs": [],
   "source": [
    "y_predict = forest.predict(X_bow_test)"
   ]
  },
  {
   "cell_type": "code",
   "execution_count": 23,
   "metadata": {
    "collapsed": false,
    "deletable": true,
    "editable": true
   },
   "outputs": [
    {
     "name": "stdout",
     "output_type": "stream",
     "text": [
      "0.916666666667\n"
     ]
    }
   ],
   "source": [
    "from sklearn.metrics import accuracy_score\n",
    "\n",
    "print(accuracy_score(y_test, y_predict))"
   ]
  }
 ],
 "metadata": {
  "anaconda-cloud": {},
  "kernelspec": {
   "display_name": "Python 3",
   "language": "python",
   "name": "python3"
  },
  "language_info": {
   "codemirror_mode": {
    "name": "ipython",
    "version": 3
   },
   "file_extension": ".py",
   "mimetype": "text/x-python",
   "name": "python",
   "nbconvert_exporter": "python",
   "pygments_lexer": "ipython3",
   "version": "3.6.0"
  }
 },
 "nbformat": 4,
 "nbformat_minor": 2
}
