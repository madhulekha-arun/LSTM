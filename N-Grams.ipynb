{
 "cells": [
  {
   "cell_type": "code",
   "execution_count": 1,
   "metadata": {
    "collapsed": true,
    "deletable": true,
    "editable": true
   },
   "outputs": [],
   "source": [
    "from nltk.util import ngrams\n",
    "def generate_ngrams(tokens):\n",
    "\n",
    "    generated_ngrams = []\n",
    "\n",
    "    for token in tokens:\n",
    "        \n",
    "        for x in range(1, 6): # generate N-grams, for N=1 to 5\n",
    "            xngrams = ngrams(token, x)\n",
    "\n",
    "            for xngram in xngrams:\n",
    "                # convert ('E', 'X', 'T', ' ') to 'EXT '\n",
    "                ngram = ''.join(xngram)\n",
    "                generated_ngrams.append(ngram)\n",
    "\n",
    "    return generated_ngrams"
   ]
  },
  {
   "cell_type": "code",
   "execution_count": 2,
   "metadata": {
    "collapsed": false,
    "deletable": true,
    "editable": true
   },
   "outputs": [],
   "source": [
    "from nltk.tokenize import RegexpTokenizer\n",
    "import operator\n",
    "def calculate_ngram_occurrences(text):\n",
    "\n",
    "    tokenizer = RegexpTokenizer(\"[a-zA-Z'`éèî]+\")\n",
    "    tokens = tokenizer.tokenize(text)\n",
    "    ngrams_list = generate_ngrams(tokens)\n",
    "\n",
    "    ngrams_statistics = {}\n",
    "\n",
    "    for ngram in ngrams_list:\n",
    "        if ngram not in ngrams_statistics:\n",
    "            ngrams_statistics.update({ngram:1})\n",
    "        else:\n",
    "            ngram_occurrences = ngrams_statistics[ngram]\n",
    "            ngrams_statistics.update({ngram:ngram_occurrences+1})\n",
    "\n",
    "    ngrams_statistics_sorted = sorted(ngrams_statistics.items(),\\\n",
    "                                      key=operator.itemgetter(1),\\\n",
    "                                      reverse=True)[0:300]\n",
    "\n",
    "    return ngrams_statistics_sorted"
   ]
  },
  {
   "cell_type": "code",
   "execution_count": 3,
   "metadata": {
    "collapsed": true,
    "deletable": true,
    "editable": true
   },
   "outputs": [],
   "source": [
    "text_eng = open('data/eng.txt', mode='r').read()\n",
    "text_frn = open('data/frn.txt', mode='r').read()\n",
    "text_eng_train = text_eng[:int(0.8*len(text_eng))]\n",
    "text_eng_test = text_eng[int(0.8*len(text_eng)):]\n",
    "text_frn_train = text_frn[:int(0.8*len(text_frn))]\n",
    "text_frn_test = text_frn[int(0.8*len(text_frn)):]"
   ]
  },
  {
   "cell_type": "code",
   "execution_count": 4,
   "metadata": {
    "collapsed": false,
    "deletable": true,
    "editable": true
   },
   "outputs": [
    {
     "name": "stderr",
     "output_type": "stream",
     "text": [
      "/Users/kiran/python_3/lib/python3.6/site-packages/ipykernel/__main__.py:11: DeprecationWarning: generator 'ngrams' raised StopIteration\n"
     ]
    }
   ],
   "source": [
    "# Create English profile\n",
    "profile_ngrams_sorted = calculate_ngram_occurrences(text_eng_train)\n",
    "fd = open('data/ngrams-eng.dat', mode='w')\n",
    "for ngram in profile_ngrams_sorted:\n",
    "    fd.write('%s\\t%s\\n' % (ngram[0], ngram[1]))\n",
    "fd.close()"
   ]
  },
  {
   "cell_type": "code",
   "execution_count": 5,
   "metadata": {
    "collapsed": false,
    "deletable": true,
    "editable": true
   },
   "outputs": [
    {
     "name": "stderr",
     "output_type": "stream",
     "text": [
      "/Users/kiran/python_3/lib/python3.6/site-packages/ipykernel/__main__.py:11: DeprecationWarning: generator 'ngrams' raised StopIteration\n"
     ]
    }
   ],
   "source": [
    "# Create French profile\n",
    "profile_ngrams_sorted = calculate_ngram_occurrences(text_frn_train)\n",
    "fd = open('data/ngrams-frn.dat', mode='w')\n",
    "for ngram in profile_ngrams_sorted:\n",
    "    fd.write('%s\\t%s\\n' % (ngram[0], ngram[1]))\n",
    "fd.close()"
   ]
  },
  {
   "cell_type": "code",
   "execution_count": 6,
   "metadata": {
    "collapsed": true,
    "deletable": true,
    "editable": true
   },
   "outputs": [],
   "source": [
    "def compare_ngram_frequency_profiles(category_profile, document_profile):\n",
    "\n",
    "    document_distance = 0\n",
    "\n",
    "    # convert [['eas ', 487], ['going', 437], ...] to ['eas', 'going', ...]\n",
    "    category_ngrams_sorted = [ngram[0] for ngram in category_profile]\n",
    "    document_ngrams_sorted = [ngram[0] for ngram in document_profile]\n",
    "\n",
    "    maximum_out_of_place_value = len(document_ngrams_sorted)\n",
    "\n",
    "    for ngram in document_ngrams_sorted:\n",
    "        # pick up index position of ngram\n",
    "        document_index = document_ngrams_sorted.index(ngram)\n",
    "        try:\n",
    "            # check if analyzed ngram exists in pre-computed category\n",
    "            category_profile_index = category_ngrams_sorted.index(ngram)\n",
    "        except ValueError:\n",
    "            #If an N-gram is not in the category profile,\n",
    "            #it takes some maximum out-of-place value.\n",
    "            category_profile_index = maximum_out_of_place_value\n",
    "\n",
    "        distance = abs(category_profile_index-document_index)\n",
    "        document_distance+=distance\n",
    "\n",
    "    return document_distance"
   ]
  },
  {
   "cell_type": "code",
   "execution_count": 7,
   "metadata": {
    "collapsed": true,
    "deletable": true,
    "editable": true
   },
   "outputs": [],
   "source": [
    "def guess_language(raw_text):\n",
    "    \n",
    "    languages_ratios = {}\n",
    "    languages_statistics = {}\n",
    "\n",
    "    ngram_statistics = open('data/ngrams-eng.dat', mode='r').readlines()\n",
    "    ngram_statistics = map(str.rstrip, ngram_statistics) # remove edge trailing\n",
    "    languages_statistics.update({'1':ngram_statistics})\n",
    "\n",
    "    ngram_statistics = open('data/ngrams-frn.dat', mode='r').readlines()\n",
    "    ngram_statistics = map(str.rstrip, ngram_statistics) # remove edge trailing\n",
    "    languages_statistics.update({'0':ngram_statistics})\n",
    "\n",
    "    for language, ngrams_statistics in languages_statistics.items():\n",
    "        language_ngram_statistics = calculate_ngram_occurrences(raw_text)\n",
    "        distance = compare_ngram_frequency_profiles(ngrams_statistics, language_ngram_statistics)\n",
    "\n",
    "        languages_ratios.update({language:distance})\n",
    "\n",
    "    nearest_language = min(languages_ratios, key=languages_ratios.get)\n",
    "\n",
    "    return nearest_language"
   ]
  },
  {
   "cell_type": "code",
   "execution_count": 8,
   "metadata": {
    "collapsed": false,
    "deletable": true,
    "editable": true
   },
   "outputs": [
    {
     "name": "stdout",
     "output_type": "stream",
     "text": [
      "['n or out of wedlock, shall enjoy the same social protection.', 'Article 26 1.', 'Everyone has the right to education.', 'Education shall be free, at least in the elementary and fundamental stages.', 'Elementary education shall be compulsory.', 'Technical and professional education shall be made generally available and higher education shall be equally accessible to all on the basis of merit.', '2.', 'Education shall be directed to the full development of the human personality and to the strengthening of respect for human rights and fundamental freedoms.', 'It shall promote understanding, tolerance and friendship among all nations, racial or religious groups, and shall further the activities of the United Nations for the maintenance of peace.', '3.', 'Parents have a prior right to choose the kind of education that shall be given to their children.', 'Article 27 1.', 'Everyone has the right freely to participate in the cultural life of the community, to enjoy the arts and to share in scientific advancement and its benefits.', '2.', 'Everyone has the right to the protection of the moral and material interests resulting from any scientific, literary or artistic production of which he is the author.', 'Article 28 Everyone is entitled to a social and international order in which the rights and freedoms set forth in this Declaration can be fully realized.', 'Article 29 1.', 'Everyone has duties to the community in which alone the free and full development of his personality is possible.', '2.', 'In the exercise of his rights and freedoms, everyone shall be subject only to such limitations as are determined by law solely for the purpose of securing due recognition and respect for the rights and freedoms of others and of meeting the just requirements of morality, public order and the general welfare in a democratic society.', '3.', 'These rights and freedoms may in no case be exercised contrary to the purposes and principles of the United Nations.', 'Article 30 Nothing in this Declaration may be interpreted as implying for any State, group or person any right to engage in any activity or to perform any act aimed at the destruction of any of the rights and freedoms set forth herein.']\n",
      "['soient nes dans le mariage ou hors mariage, jouissent de la meme protection sociale.', 'Article 26 1.', \"Toute personne a droit a l'education.\", \"L'education doit etre gratuite, au moins en ce qui concerne l'enseignement elementaire et fondamental.\", \"L'enseignement elementaire est obligatoire.\", \"L'enseignement technique et\\n\\n\\x0cprofessionnel doit etre generalise; l'acces aux etudes superieures doit etre ouvert en pleine egalite a tous en fonction de leur merite.\", '2.', \"L'education doit viser au plein epanouissement de la personnalite humaine et au renforcement du respect des droits de l'homme et des libertes fondamentales.\", \"Elle doit favoriser la comprehension, la tolerance et l'amitie entre toutes les nations et tous les groupes raciaux ou religieux, ainsi que le developpement des activites des Nations Unies pour le maintien de la paix.\", '3.', \"Les parents ont, par priorite, le droit de choisir le genre d'education a donner a leurs enfants.\", 'Article 27 1.', 'Toute personne a le droit de prendre part librement a la vie culturelle de la communaute, de jouir des arts et de participer au progres scientifique et aux bienfaits qui en resultent 2.', \"Chacun a droit a la protection des interets moraux et materiels decoulant de toute production scientifique, litteraire ou artistique dont il est l'auteur.\", 'Article 28 Toute personne a droit a ce que regne, sur le plan social et sur le plan international, un ordre tel que les droits et libertes enonces dans la presente Declaration puissent y trouver plein effet.', 'Article 29 1.', \"L'individu a des devoirs envers la communaute dans laquelle seul le libre et plein developpement de sa personnalite est possible.\", '2.', \"Dans l'exercice de ses droits et dans la jouissance de ses libertes, chacun n'est soumis qu'aux limitations etablies par la loi exclusivement en vue\\n\\n\\x0cd'assurer la reconnaissance et le respect des droits et libertes d'autrui et afin de satisfaire aux justes exigences de la morale, de l'ordre public et du bien-etre general dans une societe democratique.\", '3.', \"Ces droits et libertes ne pourront, en aucun cas, s'exercer contrairement aux buts et aux principes des Nations Unies.\", \"Article 30 Aucune disposition de la presente Declaration ne peut etre interpretee comme impliquant, pour un Etat, un groupement ou un individu, un droit quelconque de se livrer a une activite ou d'accomplir un acte visant a la destruction des droits et libertes qui y sont enonces.\"]\n"
     ]
    }
   ],
   "source": [
    "import nltk.data\n",
    "\n",
    "tokenizer = nltk.data.load('tokenizers/punkt/english.pickle')\n",
    "sentences_eng_test = tokenizer.tokenize(text_eng_test)\n",
    "sentences_eng_test\n",
    "\n",
    "tokenizer = nltk.data.load('tokenizers/punkt/french.pickle')\n",
    "sentences_frn_test = tokenizer.tokenize(text_frn_test)\n",
    "sentences_frn_test\n",
    "\n",
    "print(sentences_eng_test)\n",
    "print(sentences_frn_test)"
   ]
  },
  {
   "cell_type": "code",
   "execution_count": 9,
   "metadata": {
    "collapsed": false,
    "deletable": true,
    "editable": true
   },
   "outputs": [
    {
     "name": "stdout",
     "output_type": "stream",
     "text": [
      "36\n",
      "36\n"
     ]
    }
   ],
   "source": [
    "#removing sentences like '1.', '2.' etc.\n",
    "sentences_eng_test = [x for x in sentences_eng_test if len(x) > 2]\n",
    "sentences_frn_test = [x for x in sentences_frn_test if len(x) > 2]\n",
    "\n",
    "X_test = sentences_eng_test + sentences_frn_test\n",
    "y_true = ([1] * len(sentences_eng_test)) + ([0] * len(sentences_frn_test)) #1 for English, 0 for French\n",
    "print(len(X_test))\n",
    "print(len(y_true))"
   ]
  },
  {
   "cell_type": "code",
   "execution_count": 10,
   "metadata": {
    "collapsed": false,
    "deletable": true,
    "editable": true
   },
   "outputs": [
    {
     "name": "stderr",
     "output_type": "stream",
     "text": [
      "/Users/kiran/python_3/lib/python3.6/site-packages/ipykernel/__main__.py:11: DeprecationWarning: generator 'ngrams' raised StopIteration\n"
     ]
    }
   ],
   "source": [
    "y_pred = []\n",
    "for line in X_test:\n",
    "    y_pred.append(int(guess_language(line)))"
   ]
  },
  {
   "cell_type": "code",
   "execution_count": 11,
   "metadata": {
    "collapsed": false,
    "deletable": true,
    "editable": true
   },
   "outputs": [
    {
     "name": "stdout",
     "output_type": "stream",
     "text": [
      "0.888888888889\n"
     ]
    }
   ],
   "source": [
    "from sklearn.metrics import accuracy_score\n",
    "print(accuracy_score(y_true, y_pred))"
   ]
  },
  {
   "cell_type": "code",
   "execution_count": null,
   "metadata": {
    "collapsed": true,
    "deletable": true,
    "editable": true
   },
   "outputs": [],
   "source": []
  }
 ],
 "metadata": {
  "kernelspec": {
   "display_name": "Python 3",
   "language": "python",
   "name": "python3"
  },
  "language_info": {
   "codemirror_mode": {
    "name": "ipython",
    "version": 3
   },
   "file_extension": ".py",
   "mimetype": "text/x-python",
   "name": "python",
   "nbconvert_exporter": "python",
   "pygments_lexer": "ipython3",
   "version": "3.6.0"
  }
 },
 "nbformat": 4,
 "nbformat_minor": 2
}
